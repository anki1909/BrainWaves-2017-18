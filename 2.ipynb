{
 "cells": [
  {
   "cell_type": "code",
   "execution_count": 38,
   "metadata": {
    "collapsed": true
   },
   "outputs": [],
   "source": [
    "import pandas as pd\n",
    "import numpy as np"
   ]
  },
  {
   "cell_type": "code",
   "execution_count": 39,
   "metadata": {
    "collapsed": true
   },
   "outputs": [],
   "source": [
    "train_blend1 = pd.read_csv('train5fold_lol1.csv')\n",
    "test_blend1 = pd.read_csv('test5fold_lol1.csv')\n",
    "train_blend2 = pd.read_csv('train5fold_lol2.csv')\n",
    "test_blend2 = pd.read_csv('test5fold_lol2.csv')\n",
    "l = pd.read_csv('../sample.csv')"
   ]
  },
  {
   "cell_type": "code",
   "execution_count": 40,
   "metadata": {
    "collapsed": true
   },
   "outputs": [],
   "source": [
    "train_blend1.columns = ['one','two','three','four','five','six','seven','eight','nine','ten','eleven']\n",
    "train_blend1 = train_blend1.drop('eleven',axis =1)\n",
    "test_blend1.columns = ['one','two','three','four','five','six','seven','eight','nine','ten','eleven']\n",
    "\n",
    "test_blend1 = test_blend1.drop('eleven',axis =1)\n"
   ]
  },
  {
   "cell_type": "code",
   "execution_count": 41,
   "metadata": {
    "collapsed": true
   },
   "outputs": [],
   "source": [
    "train_blend2.columns = ['one','two','three','four','five','six','seven','eight']\n",
    "train_blend2 = train_blend2.drop('eight',axis =1)\n",
    "test_blend2.columns = ['one','two','three','four','five','six','seven','eight']\n",
    "test_blend2 = test_blend2.drop('eight',axis =1)"
   ]
  },
  {
   "cell_type": "code",
   "execution_count": 42,
   "metadata": {
    "collapsed": true
   },
   "outputs": [],
   "source": [
    "train = pd.read_csv('../train.csv')\n",
    "test = pd.read_csv('../test.csv')"
   ]
  },
  {
   "cell_type": "code",
   "execution_count": 43,
   "metadata": {
    "collapsed": true
   },
   "outputs": [],
   "source": [
    "y= train.target\n",
    "id_test = test.transaction_id"
   ]
  },
  {
   "cell_type": "code",
   "execution_count": 44,
   "metadata": {
    "collapsed": true
   },
   "outputs": [],
   "source": [
    "blend_train = pd.concat((train_blend1,train_blend2),axis=1)\n",
    "blend_test = pd.concat((test_blend1,test_blend2),axis=1)"
   ]
  },
  {
   "cell_type": "code",
   "execution_count": 45,
   "metadata": {},
   "outputs": [
    {
     "data": {
      "text/plain": [
       "((348978, 17),)"
      ]
     },
     "execution_count": 45,
     "metadata": {},
     "output_type": "execute_result"
    }
   ],
   "source": [
    "blend_train.shape,"
   ]
  },
  {
   "cell_type": "code",
   "execution_count": 46,
   "metadata": {},
   "outputs": [],
   "source": [
    "train_blend1.shape,train_blend2.shape\n",
    "k = pd.read_csv('blend.csv')"
   ]
  },
  {
   "cell_type": "code",
   "execution_count": 47,
   "metadata": {},
   "outputs": [],
   "source": [
    "from sklearn.ensemble import GradientBoostingClassifier,RandomForestClassifier\n",
    "clf = GradientBoostingClassifier()\n",
    "clf.fit(blend_train,y)\n",
    "pred = clf.predict_proba(blend_test)[:,1]"
   ]
  },
  {
   "cell_type": "code",
   "execution_count": 49,
   "metadata": {},
   "outputs": [
    {
     "data": {
      "text/plain": [
       "array([ 0.06026858,  0.05748217,  0.06061467, ...,  0.06091459,\n",
       "        0.06816636,  0.07218382])"
      ]
     },
     "execution_count": 49,
     "metadata": {},
     "output_type": "execute_result"
    }
   ],
   "source": []
  },
  {
   "cell_type": "code",
   "execution_count": null,
   "metadata": {},
   "outputs": [],
   "source": []
  },
  {
   "cell_type": "code",
   "execution_count": 57,
   "metadata": {},
   "outputs": [],
   "source": [
    "pd.DataFrame({'transaction_id':id_test,'target':0.5*pred+0.5*l.target})[['transaction_id','target']].to_csv('blend_G.csv',index =False)\n"
   ]
  },
  {
   "cell_type": "code",
   "execution_count": null,
   "metadata": {
    "collapsed": true
   },
   "outputs": [],
   "source": []
  }
 ],
 "metadata": {
  "kernelspec": {
   "display_name": "Python 2",
   "language": "python",
   "name": "python2"
  },
  "language_info": {
   "codemirror_mode": {
    "name": "ipython",
    "version": 2
   },
   "file_extension": ".py",
   "mimetype": "text/x-python",
   "name": "python",
   "nbconvert_exporter": "python",
   "pygments_lexer": "ipython2",
   "version": "2.7.13"
  }
 },
 "nbformat": 4,
 "nbformat_minor": 2
}
