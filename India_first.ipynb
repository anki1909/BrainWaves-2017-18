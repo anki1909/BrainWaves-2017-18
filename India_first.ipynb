{
 "cells": [
  {
   "cell_type": "code",
   "execution_count": 60,
   "metadata": {},
   "outputs": [
    {
     "name": "stderr",
     "output_type": "stream",
     "text": [
      "/home/ankit/anaconda3/lib/python3.7/site-packages/selenium/webdriver/phantomjs/webdriver.py:49: UserWarning: Selenium support for PhantomJS has been deprecated, please use headless versions of Chrome or Firefox instead\n",
      "  warnings.warn('Selenium support for PhantomJS has been deprecated, please use headless '\n"
     ]
    }
   ],
   "source": [
    "import pandas as pd\n",
    "import numpy as np\n",
    "from selenium import webdriver\n",
    "from selenium.webdriver.common.by import By\n",
    "from selenium.webdriver.support.select import Select\n",
    "from selenium.webdriver.support.ui import WebDriverWait\n",
    "from selenium.webdriver.support import expected_conditions as EC\n",
    "\n",
    "driver = webdriver.PhantomJS('phantomjs-2.1.1-linux-x86_64/bin/phantomjs')\n",
    "driver.get(\"https://docs.google.com/spreadsheets/d/e/2PACX-1vSc_2y5N0I67wDU38DjDh35IZSIS30rQf7_NYZhtYYGU1jJYT6_kDx4YpF-qw0LSlGsBYP8pqM_a1Pd/pubhtml\")\n",
    "\n",
    "# waiting for the page to load - TODO: change\n",
    "wait = WebDriverWait(driver, 10)\n",
    "\n",
    "try:\n",
    "    wait.until(EC.visibility_of_element_located((By.ID, \"content\")))\n",
    "except Exception:\n",
    "    driver.save_screenshot('screenshot.png')\n",
    "\n",
    "\n",
    "\n",
    "\n",
    "\n",
    "data = driver.page_source\n",
    "driver.close()\n",
    "\n",
    "soup = BeautifulSoup(data, \"html.parser\")"
   ]
  },
  {
   "cell_type": "code",
   "execution_count": 61,
   "metadata": {},
   "outputs": [],
   "source": [
    "tbl = soup.find('table')\n",
    "rows = tbl.findAll('tr')"
   ]
  },
  {
   "cell_type": "code",
   "execution_count": 62,
   "metadata": {},
   "outputs": [],
   "source": [
    "data_full = []\n",
    "for row in rows:\n",
    "    #print (row,'\\n')\n",
    "    data_row = []\n",
    "    cols = row.find_all('td')\n",
    "    for col in cols:\n",
    "        #print (col,'\\n')\n",
    "        try:\n",
    "            data_row.append(col.contents[0])\n",
    "        except:\n",
    "            data_row.append(np.nan)\n",
    "    data_full.append(data_row)"
   ]
  },
  {
   "cell_type": "code",
   "execution_count": 73,
   "metadata": {},
   "outputs": [],
   "source": [
    "df = pd.DataFrame(data_full)"
   ]
  },
  {
   "cell_type": "code",
   "execution_count": 74,
   "metadata": {},
   "outputs": [],
   "source": [
    "df = df.loc[~(df.isnull().sum(axis=1)==24)]"
   ]
  },
  {
   "cell_type": "code",
   "execution_count": 76,
   "metadata": {},
   "outputs": [],
   "source": [
    "new_header = df.iloc[0] #grab the first row for the header\n",
    "df = df[1:] #take the data less the header row\n",
    "df.columns = new_header #set the header row as the df header"
   ]
  },
  {
   "cell_type": "code",
   "execution_count": 79,
   "metadata": {},
   "outputs": [
    {
     "data": {
      "text/plain": [
       "Index([                           Patient number,\n",
       "                            State Patient Number,\n",
       "                                  Date Announced,\n",
       "                                     Age Bracket,\n",
       "                                          Gender,\n",
       "                                   Detected City,\n",
       "                               Detected District,\n",
       "                                  Detected State,\n",
       "                                  Current Status,\n",
       "                                           Notes,\n",
       "       Contracted from which Patient (Suspected),\n",
       "                                     Nationality,\n",
       "                              Status Change Date,\n",
       "                                        Source_1,\n",
       "                                        Source_2,\n",
       "                                        Source_3,\n",
       "                                    Backup Notes,\n",
       "                                             nan,\n",
       "                                             nan,\n",
       "                                             nan,\n",
       "                                             nan,\n",
       "                                             nan,\n",
       "                                             nan,\n",
       "                                             nan],\n",
       "      dtype='object', name=1)"
      ]
     },
     "execution_count": 79,
     "metadata": {},
     "output_type": "execute_result"
    }
   ],
   "source": [
    "df.columns"
   ]
  },
  {
   "cell_type": "code",
   "execution_count": 88,
   "metadata": {},
   "outputs": [
    {
     "data": {
      "text/plain": [
       "NaN                                                                                                201\n",
       "Kasaragod                                                                                           41\n",
       "Bengaluru                                                                                           33\n",
       "Hyderabad                                                                                           32\n",
       "Pune                                                                                                24\n",
       "Gurugram                                                                                            24\n",
       "Ernakulam                                                                                           19\n",
       "<div class=\"softmerge-inner\" style=\"width: 157px; left: -1px;\">Shaheed Bhagat Singh Nagar</div>     15\n",
       "Kannur                                                                                              14\n",
       "Ahmedabad                                                                                           14\n",
       "Bhilwara                                                                                            12\n",
       "Pathanamthitta                                                                                      12\n",
       "Leh                                                                                                 11\n",
       "Chennai                                                                                             11\n",
       "Gautam Buddh Nagar                                                                                  11\n",
       "Jaipur                                                                                              10\n",
       "Mumbai                                                                                               9\n",
       "Vadodara                                                                                             7\n",
       "Agra                                                                                                 7\n",
       "Chandigarh                                                                                           7\n",
       "Delhi                                                                                                6\n",
       "Gandhinagar                                                                                          6\n",
       "Jabalpur                                                                                             5\n",
       "Surat                                                                                                5\n",
       "Jhunjhunu                                                                                            5\n",
       "Kozhikode                                                                                            5\n",
       "<div class=\"softmerge-inner\" style=\"width: 157px; left: -1px;\">Sahibzada Ajit Singh Nagar</div>      5\n",
       "Malappuram                                                                                           5\n",
       "Salem                                                                                                5\n",
       "Lucknow                                                                                              4\n",
       "                                                                                                  ... \n",
       "Raipur                                                                                               1\n",
       "Moradabad                                                                                            1\n",
       "Guntur                                                                                               1\n",
       "Pauri                                                                                                1\n",
       "Kodagu                                                                                               1\n",
       "Shivpuri                                                                                             1\n",
       "Chitoor                                                                                              1\n",
       "Tiruppur                                                                                             1\n",
       "Mahe                                                                                                 1\n",
       "Dharwad                                                                                              1\n",
       "Dakshina Kannada                                                                                     1\n",
       "Vishakhapatnam                                                                                       1\n",
       "North Kolkata                                                                                        1\n",
       "Jammu                                                                                                1\n",
       "Baghpat                                                                                              1\n",
       "Prakasam                                                                                             1\n",
       "Ludhiana                                                                                             1\n",
       "Rajnandgaon                                                                                          1\n",
       "Aurangabad                                                                                           1\n",
       "East Godavari                                                                                        1\n",
       "Coimbatore                                                                                           1\n",
       "North 24 Parganas                                                                                    1\n",
       "Udupi                                                                                                1\n",
       "Ratnagiri                                                                                            1\n",
       "Aizawl                                                                                               1\n",
       "Kutch                                                                                                1\n",
       "East Delhi                                                                                           1\n",
       "Palwal                                                                                               1\n",
       "Madurai                                                                                              1\n",
       "Gwalior                                                                                              1\n",
       "Name: Detected District, Length: 112, dtype: int64"
      ]
     },
     "execution_count": 88,
     "metadata": {},
     "output_type": "execute_result"
    }
   ],
   "source": [
    "df['Detected District'].value_counts(dropna=False)"
   ]
  },
  {
   "cell_type": "code",
   "execution_count": 83,
   "metadata": {},
   "outputs": [
    {
     "data": {
      "text/plain": [
       "Details awaited                                                                                                                                          87\n",
       "Travelled from Dubai                                                                                                                                     28\n",
       "Travelled from Dubai, UAE                                                                                                                                25\n",
       "Details Awaited                                                                                                                                          24\n",
       "Travelled from UK                                                                                                                                        23\n",
       "Travelled from Italy                                                                                                                                     18\n",
       "Travelled from Saudi Arabia                                                                                                                              10\n",
       "Travelled from London                                                                                                                                     9\n",
       "Indonesian                                                                                                                                                7\n",
       "Travelled from Middle East                                                                                                                                7\n",
       "Family members of P4                                                                                                                                      6\n",
       "Travelled from Iran                                                                                                                                       5\n",
       "Close contact of Patient (Patient Unknown, likely P182)                                                                                                   5\n",
       "Staff of Private Hospital                                                                                                                                 5\n",
       "Travelled from Dubai. UK Tourist                                                                                                                          5\n",
       "No Travel History ( details awaited)                                                                                                                      4\n",
       "Indonesian Tourist                                                                                                                                        4\n",
       "Details awaited; MoHFW reported 26 on 21 Mar AM                                                                                                           4\n",
       "Contact transmission, details awaited                                                                                                                     4\n",
       "Travelled from Saudi Arabia, Details awaited                                                                                                              4\n",
       "Contact Transmission,Details awaited                                                                                                                      4\n",
       "First contacts or family members of the group of 40 who came back from Dubai earlier                                                                      4\n",
       "Travelled from Germany                                                                                                                                    3\n",
       "Relative of P142, junior resident at KGMU                                                                                                                 3\n",
       "Travelled from Germany via Italy                                                                                                                          3\n",
       "Travelled from Wuhan                                                                                                                                      3\n",
       "Son of P182                                                                                                                                               3\n",
       "Travelled from Dubai and Thailand(Family)                                                                                                                 3\n",
       "Details awaited, (family)                                                                                                                                 3\n",
       "Travelled from France                                                                                                                                     3\n",
       "                                                                                                                                                         ..\n",
       "Contact with P 80, Details awaited                                                                                                                        1\n",
       "Close relative of  P380                                                                                                                                   1\n",
       "Travelled from Mecca, Saudi Arabia along with Son(P285), via Hyderabad to Hindupur by train and to Gowribidanur by bus                                    1\n",
       "Travelled from Saudi Arabia. She was suffering from many complications.                                                                                   1\n",
       "Travelled from Egypt, Details awaited                                                                                                                     1\n",
       "Travelled from Malaysia                                                                                                                                   1\n",
       "Travelled from Dubai.                                                                                                                                     1\n",
       "Travelled from Dubai on 1 March, Husband of P45                                                                                                           1\n",
       "Travelled from Dubai AI 938, Taken to hospital directly from the airport.                                                                                 1\n",
       "<div class=\"softmerge-inner\" style=\"width: 508px; left: -1px;\">Tibetan refugee,died at a hospital in Tanda. Travelled from the US on 15.03.2020</div>     1\n",
       "Travelled from New Zealand                                                                                                                                1\n",
       "Travelled from Spain AI136                                                                                                                                1\n",
       "Travel History to Spain and arrived in Bangalore via Dubai on Mar 14                                                                                      1\n",
       "Brother of P171                                                                                                                                           1\n",
       "Travelled from US on March 7                                                                                                                              1\n",
       "Travelled from Ireland                                                                                                                                    1\n",
       "Travelled from UK and Dubai                                                                                                                               1\n",
       "Travelled from Italy, 2nd evacuee from Italy in ITBP Chhawla Camp                                                                                         1\n",
       "<div class=\"softmerge-inner\" style=\"width: 410px; left: -1px;\">Infected by the Doctor who was tested positive a few days back</div>                       1\n",
       "Daughter in Law of P182                                                                                                                                   1\n",
       "In contact with P182                                                                                                                                      1\n",
       "Grand son of P182                                                                                                                                         1\n",
       "No foreign travel. Attended meeting at Delhi Nizamuddin mosque from 14.03.2020 and returned to Vijayawada by train on 19.03.2020.                         1\n",
       "Travelled from Dubai via Goa                                                                                                                              1\n",
       "From the state of Kerala. With a Travel History to Saudi Arabia and Arrived in Mangaluru. Date of arrival is not known.                                   1\n",
       "Travelled from California via Singapore to Chennai Airport on 20.03.2020                                                                                  1\n",
       "Travelled from France, Sector 100;                                                                                                                        1\n",
       "Wife of P295                                                                                                                                              1\n",
       "Travel History to Athens and London and arrived in Bangalore on Mar 18.                                                                                   1\n",
       "Mother of P171                                                                                                                                            1\n",
       "Name: Notes, Length: 352, dtype: int64"
      ]
     },
     "execution_count": 83,
     "metadata": {},
     "output_type": "execute_result"
    }
   ],
   "source": [
    "df['Notes'].value_counts()"
   ]
  },
  {
   "cell_type": "code",
   "execution_count": 86,
   "metadata": {},
   "outputs": [
    {
     "data": {
      "text/plain": [
       "India                                                                                   349\n",
       "NaN                                                                                     321\n",
       "Italy                                                                                    18\n",
       "Indonesia                                                                                14\n",
       "<div class=\"softmerge-inner\" style=\"width: 99px; left: -3px;\">United Kingdom</div>        6\n",
       "Thailand                                                                                  2\n",
       "Phillipines                                                                               2\n",
       "<div class=\"softmerge-inner\" style=\"width: 106px; left: -10px;\">United Kingdom</div>      1\n",
       "Canada                                                                                    1\n",
       "Name: Nationality, dtype: int64"
      ]
     },
     "execution_count": 86,
     "metadata": {},
     "output_type": "execute_result"
    }
   ],
   "source": [
    "df['Nationality'].value_counts(dropna=False)"
   ]
  },
  {
   "cell_type": "code",
   "execution_count": 85,
   "metadata": {},
   "outputs": [
    {
     "data": {
      "text/plain": [
       "(714, 24)"
      ]
     },
     "execution_count": 85,
     "metadata": {},
     "output_type": "execute_result"
    }
   ],
   "source": [
    "df.shape"
   ]
  },
  {
   "cell_type": "code",
   "execution_count": 87,
   "metadata": {},
   "outputs": [
    {
     "data": {
      "text/plain": [
       "True     378\n",
       "False    293\n",
       "NaN       43\n",
       "Name: Notes, dtype: int64"
      ]
     },
     "execution_count": 87,
     "metadata": {},
     "output_type": "execute_result"
    }
   ],
   "source": [
    "df['Notes'].str.contains('Travel').value_counts(dropna=False)"
   ]
  },
  {
   "cell_type": "code",
   "execution_count": null,
   "metadata": {},
   "outputs": [],
   "source": []
  }
 ],
 "metadata": {
  "kernelspec": {
   "display_name": "Python 3",
   "language": "python",
   "name": "python3"
  },
  "language_info": {
   "codemirror_mode": {
    "name": "ipython",
    "version": 3
   },
   "file_extension": ".py",
   "mimetype": "text/x-python",
   "name": "python",
   "nbconvert_exporter": "python",
   "pygments_lexer": "ipython3",
   "version": "3.7.3"
  }
 },
 "nbformat": 4,
 "nbformat_minor": 2
}
